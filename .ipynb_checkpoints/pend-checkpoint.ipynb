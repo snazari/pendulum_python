{
 "cells": [
  {
   "cell_type": "code",
   "execution_count": 1,
   "id": "0cbe2cba-8ebf-4c19-b6b8-8424267d82b1",
   "metadata": {},
   "outputs": [],
   "source": [
    "import ctypes\n",
    "import os\n",
    "import platform\n",
    "\n",
    "import matplotlib.pyplot as plt\n",
    "import pandas as pd\n",
    "from rtwtypes import *"
   ]
  },
  {
   "cell_type": "code",
   "execution_count": 2,
   "id": "91fce7d2-cad9-4fa1-9995-185672a78abe",
   "metadata": {},
   "outputs": [],
   "source": [
    "dll_path = os.path.abspath(\"pend.so\")\n",
    "dll = ctypes.cdll.LoadLibrary(dll_path)"
   ]
  },
  {
   "cell_type": "code",
   "execution_count": 3,
   "id": "ec08ce4e-9ca6-4ecf-859c-1c55259aef7b",
   "metadata": {},
   "outputs": [],
   "source": [
    "model_initialize=dll.pend_initialize\n",
    "model_step = dll.pend_step\n",
    "model_terminate = dll.pend_terminate"
   ]
  },
  {
   "cell_type": "code",
   "execution_count": 4,
   "id": "4c6b10a5-e61a-430b-95f9-3f70e3596dec",
   "metadata": {},
   "outputs": [],
   "source": [
    "theta = real_T.in_dll(dll,\"theta\")"
   ]
  },
  {
   "cell_type": "code",
   "execution_count": 5,
   "id": "5ff8901c-b5e0-436c-a034-a3febfc17a82",
   "metadata": {},
   "outputs": [],
   "source": [
    "theta_dot = real_T.in_dll(dll,\"theta_dot\")"
   ]
  },
  {
   "cell_type": "code",
   "execution_count": 6,
   "id": "0777af23-f8e2-42df-b4ba-4ac2afd8a83a",
   "metadata": {},
   "outputs": [],
   "source": [
    "t = real_T.in_dll(dll,\"t_out\")"
   ]
  },
  {
   "cell_type": "code",
   "execution_count": 8,
   "id": "86a59583-b01d-4d5b-acba-e9a9d312304d",
   "metadata": {},
   "outputs": [],
   "source": [
    "u = real_T.in_dll(dll,\"u\")"
   ]
  },
  {
   "cell_type": "code",
   "execution_count": 9,
   "id": "49efea2c-17eb-4dc6-b5e4-d5f7e33c5770",
   "metadata": {},
   "outputs": [
    {
     "data": {
      "text/plain": [
       "-805277424"
      ]
     },
     "execution_count": 9,
     "metadata": {},
     "output_type": "execute_result"
    }
   ],
   "source": [
    "model_initialize()"
   ]
  },
  {
   "cell_type": "code",
   "execution_count": 10,
   "id": "cd793da7-1385-44dc-af8a-049aa4670b9c",
   "metadata": {},
   "outputs": [
    {
     "data": {
      "text/html": [
       "<div>\n",
       "<style scoped>\n",
       "    .dataframe tbody tr th:only-of-type {\n",
       "        vertical-align: middle;\n",
       "    }\n",
       "\n",
       "    .dataframe tbody tr th {\n",
       "        vertical-align: top;\n",
       "    }\n",
       "\n",
       "    .dataframe thead th {\n",
       "        text-align: right;\n",
       "    }\n",
       "</style>\n",
       "<table border=\"1\" class=\"dataframe\">\n",
       "  <thead>\n",
       "    <tr style=\"text-align: right;\">\n",
       "      <th></th>\n",
       "      <th>time</th>\n",
       "      <th>u</th>\n",
       "      <th>theta</th>\n",
       "      <th>theta_dot</th>\n",
       "    </tr>\n",
       "  </thead>\n",
       "  <tbody>\n",
       "    <tr>\n",
       "      <th>0</th>\n",
       "      <td>0.000</td>\n",
       "      <td>0.0</td>\n",
       "      <td>0.000497</td>\n",
       "      <td>0.098999</td>\n",
       "    </tr>\n",
       "    <tr>\n",
       "      <th>1</th>\n",
       "      <td>0.005</td>\n",
       "      <td>0.0</td>\n",
       "      <td>0.000990</td>\n",
       "      <td>0.097996</td>\n",
       "    </tr>\n",
       "    <tr>\n",
       "      <th>2</th>\n",
       "      <td>0.010</td>\n",
       "      <td>0.0</td>\n",
       "      <td>0.001477</td>\n",
       "      <td>0.096991</td>\n",
       "    </tr>\n",
       "    <tr>\n",
       "      <th>3</th>\n",
       "      <td>0.015</td>\n",
       "      <td>0.0</td>\n",
       "      <td>0.001960</td>\n",
       "      <td>0.095984</td>\n",
       "    </tr>\n",
       "    <tr>\n",
       "      <th>4</th>\n",
       "      <td>0.020</td>\n",
       "      <td>0.0</td>\n",
       "      <td>0.002437</td>\n",
       "      <td>0.094975</td>\n",
       "    </tr>\n",
       "    <tr>\n",
       "      <th>...</th>\n",
       "      <td>...</td>\n",
       "      <td>...</td>\n",
       "      <td>...</td>\n",
       "      <td>...</td>\n",
       "    </tr>\n",
       "    <tr>\n",
       "      <th>1995</th>\n",
       "      <td>9.975</td>\n",
       "      <td>0.0</td>\n",
       "      <td>0.000002</td>\n",
       "      <td>0.000001</td>\n",
       "    </tr>\n",
       "    <tr>\n",
       "      <th>1996</th>\n",
       "      <td>9.980</td>\n",
       "      <td>0.0</td>\n",
       "      <td>0.000002</td>\n",
       "      <td>0.000001</td>\n",
       "    </tr>\n",
       "    <tr>\n",
       "      <th>1997</th>\n",
       "      <td>9.985</td>\n",
       "      <td>0.0</td>\n",
       "      <td>0.000002</td>\n",
       "      <td>0.000001</td>\n",
       "    </tr>\n",
       "    <tr>\n",
       "      <th>1998</th>\n",
       "      <td>9.990</td>\n",
       "      <td>0.0</td>\n",
       "      <td>0.000002</td>\n",
       "      <td>0.000001</td>\n",
       "    </tr>\n",
       "    <tr>\n",
       "      <th>1999</th>\n",
       "      <td>9.995</td>\n",
       "      <td>0.0</td>\n",
       "      <td>0.000002</td>\n",
       "      <td>0.000001</td>\n",
       "    </tr>\n",
       "  </tbody>\n",
       "</table>\n",
       "<p>2000 rows × 4 columns</p>\n",
       "</div>"
      ],
      "text/plain": [
       "       time    u     theta  theta_dot\n",
       "0     0.000  0.0  0.000497   0.098999\n",
       "1     0.005  0.0  0.000990   0.097996\n",
       "2     0.010  0.0  0.001477   0.096991\n",
       "3     0.015  0.0  0.001960   0.095984\n",
       "4     0.020  0.0  0.002437   0.094975\n",
       "...     ...  ...       ...        ...\n",
       "1995  9.975  0.0  0.000002   0.000001\n",
       "1996  9.980  0.0  0.000002   0.000001\n",
       "1997  9.985  0.0  0.000002   0.000001\n",
       "1998  9.990  0.0  0.000002   0.000001\n",
       "1999  9.995  0.0  0.000002   0.000001\n",
       "\n",
       "[2000 rows x 4 columns]"
      ]
     },
     "execution_count": 10,
     "metadata": {},
     "output_type": "execute_result"
    }
   ],
   "source": [
    "row = list()\n",
    "u.value = 0.0\n",
    "for step in range(20*100):\n",
    "    model_step()\n",
    "    row.append(\n",
    "        {\n",
    "            \"time\": float(t.value),\n",
    "            \"u\": float(u.value),\n",
    "            \"theta\": float(theta.value),\n",
    "            \"theta_dot\": float(theta_dot.value)\n",
    "        }\n",
    "    )\n",
    "df = pd.DataFrame(row)\n",
    "df"
   ]
  },
  {
   "cell_type": "code",
   "execution_count": 11,
   "id": "5f343103-d5df-44b6-abee-15446905dd71",
   "metadata": {},
   "outputs": [
    {
     "data": {
      "text/plain": [
       "<AxesSubplot:xlabel='time'>"
      ]
     },
     "execution_count": 11,
     "metadata": {},
     "output_type": "execute_result"
    },
    {
     "data": {
      "image/png": "[encoded data removed]",
      "text/plain": [
       "<Figure size 432x288 with 1 Axes>"
      ]
     },
     "metadata": {
      "needs_background": "light"
     },
     "output_type": "display_data"
    }
   ],
   "source": [
    "df.plot(x=\"time\",y=[\"theta\",\"theta_dot\"])"
   ]
  },
  {
   "cell_type": "code",
   "execution_count": 16,
   "id": "ac5c2588-025a-42db-b1cf-d3092b16a6dc",
   "metadata": {},
   "outputs": [
    {
     "data": {
      "text/html": [
       "<div>\n",
       "<style scoped>\n",
       "    .dataframe tbody tr th:only-of-type {\n",
       "        vertical-align: middle;\n",
       "    }\n",
       "\n",
       "    .dataframe tbody tr th {\n",
       "        vertical-align: top;\n",
       "    }\n",
       "\n",
       "    .dataframe thead th {\n",
       "        text-align: right;\n",
       "    }\n",
       "</style>\n",
       "<table border=\"1\" class=\"dataframe\">\n",
       "  <thead>\n",
       "    <tr style=\"text-align: right;\">\n",
       "      <th></th>\n",
       "      <th>time</th>\n",
       "      <th>u</th>\n",
       "      <th>theta</th>\n",
       "      <th>theta_dot</th>\n",
       "    </tr>\n",
       "  </thead>\n",
       "  <tbody>\n",
       "    <tr>\n",
       "      <th>0</th>\n",
       "      <td>0.000</td>\n",
       "      <td>0.0</td>\n",
       "      <td>0.000497</td>\n",
       "      <td>9.899893e-02</td>\n",
       "    </tr>\n",
       "    <tr>\n",
       "      <th>1</th>\n",
       "      <td>0.005</td>\n",
       "      <td>0.0</td>\n",
       "      <td>0.000990</td>\n",
       "      <td>9.799572e-02</td>\n",
       "    </tr>\n",
       "    <tr>\n",
       "      <th>2</th>\n",
       "      <td>0.010</td>\n",
       "      <td>0.0</td>\n",
       "      <td>0.001477</td>\n",
       "      <td>9.699055e-02</td>\n",
       "    </tr>\n",
       "    <tr>\n",
       "      <th>3</th>\n",
       "      <td>0.015</td>\n",
       "      <td>0.0</td>\n",
       "      <td>0.001960</td>\n",
       "      <td>9.598356e-02</td>\n",
       "    </tr>\n",
       "    <tr>\n",
       "      <th>4</th>\n",
       "      <td>0.020</td>\n",
       "      <td>0.0</td>\n",
       "      <td>0.002437</td>\n",
       "      <td>9.497490e-02</td>\n",
       "    </tr>\n",
       "    <tr>\n",
       "      <th>...</th>\n",
       "      <td>...</td>\n",
       "      <td>...</td>\n",
       "      <td>...</td>\n",
       "      <td>...</td>\n",
       "    </tr>\n",
       "    <tr>\n",
       "      <th>4995</th>\n",
       "      <td>24.975</td>\n",
       "      <td>-1.0</td>\n",
       "      <td>0.420441</td>\n",
       "      <td>2.566697e-11</td>\n",
       "    </tr>\n",
       "    <tr>\n",
       "      <th>4996</th>\n",
       "      <td>24.980</td>\n",
       "      <td>-1.0</td>\n",
       "      <td>0.420441</td>\n",
       "      <td>2.580448e-11</td>\n",
       "    </tr>\n",
       "    <tr>\n",
       "      <th>4997</th>\n",
       "      <td>24.985</td>\n",
       "      <td>-1.0</td>\n",
       "      <td>0.420441</td>\n",
       "      <td>2.593777e-11</td>\n",
       "    </tr>\n",
       "    <tr>\n",
       "      <th>4998</th>\n",
       "      <td>24.990</td>\n",
       "      <td>-1.0</td>\n",
       "      <td>0.420441</td>\n",
       "      <td>2.606684e-11</td>\n",
       "    </tr>\n",
       "    <tr>\n",
       "      <th>4999</th>\n",
       "      <td>24.995</td>\n",
       "      <td>-1.0</td>\n",
       "      <td>0.420441</td>\n",
       "      <td>2.619171e-11</td>\n",
       "    </tr>\n",
       "  </tbody>\n",
       "</table>\n",
       "<p>5000 rows × 4 columns</p>\n",
       "</div>"
      ],
      "text/plain": [
       "        time    u     theta     theta_dot\n",
       "0      0.000  0.0  0.000497  9.899893e-02\n",
       "1      0.005  0.0  0.000990  9.799572e-02\n",
       "2      0.010  0.0  0.001477  9.699055e-02\n",
       "3      0.015  0.0  0.001960  9.598356e-02\n",
       "4      0.020  0.0  0.002437  9.497490e-02\n",
       "...      ...  ...       ...           ...\n",
       "4995  24.975 -1.0  0.420441  2.566697e-11\n",
       "4996  24.980 -1.0  0.420441  2.580448e-11\n",
       "4997  24.985 -1.0  0.420441  2.593777e-11\n",
       "4998  24.990 -1.0  0.420441  2.606684e-11\n",
       "4999  24.995 -1.0  0.420441  2.619171e-11\n",
       "\n",
       "[5000 rows x 4 columns]"
      ]
     },
     "execution_count": 16,
     "metadata": {},
     "output_type": "execute_result"
    }
   ],
   "source": [
    "model_initialize()\n",
    "Fs = 200\n",
    "Ts = 1/Fs\n",
    "row = list()\n",
    "u.value = 0.0\n",
    "for step in range(25*Fs):\n",
    "    if step >= 1*Fs:\n",
    "        u.value = -1.0\n",
    "    else:\n",
    "        u.value = 0.0\n",
    "    model_step()\n",
    "    row.append(\n",
    "        {\n",
    "            \"time\": float(t.value),\n",
    "            \"u\": float(u.value),\n",
    "            \"theta\": float(theta.value),\n",
    "            \"theta_dot\": float(theta_dot.value)\n",
    "        }\n",
    "    )\n",
    "df = pd.DataFrame(row)\n",
    "df"
   ]
  },
  {
   "cell_type": "code",
   "execution_count": 17,
   "id": "f373fc8b-7422-41a4-ab32-23ee51c71b4e",
   "metadata": {},
   "outputs": [
    {
     "data": {
      "text/plain": [
       "<matplotlib.legend.Legend at 0x7fd02c085070>"
      ]
     },
     "execution_count": 17,
     "metadata": {},
     "output_type": "execute_result"
    },
    {
     "data": {
      "image/png": "[encoded data removed]",
      "text/plain": [
       "<Figure size 1440x576 with 1 Axes>"
      ]
     },
     "metadata": {
      "needs_background": "light"
     },
     "output_type": "display_data"
    }
   ],
   "source": [
    "plt.figure(figsize=(20,8))\n",
    "plt.title(\"Output of System\",size=35)\n",
    "plt.plot(df.time,df.theta,'b-')\n",
    "plt.plot(df.time,df.theta_dot,'r-')\n",
    "plt.xlabel('Time (sec)',size=20)\n",
    "plt.ylabel('Amplitude',size=20)\n",
    "plt.grid()\n",
    "plt.legend(['theta','theta_dot'])"
   ]
  },
  {
   "cell_type": "markdown",
   "id": "031c1ed3-bd77-4922-a499-ce32fc4c3dbe",
   "metadata": {},
   "source": [
    "Excellent! It works!"
   ]
  },
  {
   "cell_type": "code",
   "execution_count": null,
   "id": "7e856cf0-d07a-428b-b28c-3cb789d50fe6",
   "metadata": {},
   "outputs": [],
   "source": []
  }
 ],
 "metadata": {
  "kernelspec": {
   "display_name": "Python 3 (ipykernel)",
   "language": "python",
   "name": "python3"
  },
  "language_info": {
   "codemirror_mode": {
    "name": "ipython",
    "version": 3
   },
   "file_extension": ".py",
   "mimetype": "text/x-python",
   "name": "python",
   "nbconvert_exporter": "python",
   "pygments_lexer": "ipython3",
   "version": "3.9.7"
  }
 },
 "nbformat": 4,
 "nbformat_minor": 5
}
